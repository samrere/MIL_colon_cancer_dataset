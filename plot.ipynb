{
 "cells": [
  {
   "cell_type": "code",
   "execution_count": 1,
   "id": "d49a9f7f-e017-4f44-9700-e1355f94ca77",
   "metadata": {
    "tags": []
   },
   "outputs": [],
   "source": [
    "from plot import *"
   ]
  },
  {
   "cell_type": "code",
   "execution_count": 2,
   "id": "f9b432fa-7ef7-4a16-9d48-b521a5114e68",
   "metadata": {},
   "outputs": [
    {
     "name": "stdout",
     "output_type": "stream",
     "text": [
      "parameters: {'epochs': 400, 'learning_rate': 5e-05, 'weight_decay': 0.0005, 'model': 'Instance_MIL', 'attn_stru': 'tanh', 'c': 1, 'reuse_weight': False, 'block_backprop': False, 'full_label_perc': 0.05}\n",
      "checkpoints/run20_7/checkpoint_348.pt is loaded!\n",
      "checkpoints/run20_9/checkpoint_013.pt is loaded!\n",
      "checkpoints/run20_3/checkpoint_197.pt is loaded!\n",
      "checkpoints/run20_6/checkpoint_366.pt is loaded!\n",
      "checkpoints/run20_2/checkpoint_392.pt is loaded!\n",
      "checkpoints/run20_0/checkpoint_299.pt is loaded!\n",
      "checkpoints/run20_4/checkpoint_383.pt is loaded!\n",
      "checkpoints/run20_8/checkpoint_316.pt is loaded!\n",
      "checkpoints/run20_1/checkpoint_385.pt is loaded!\n",
      "checkpoints/run20_5/checkpoint_395.pt is loaded!\n",
      "mean test error: {'bag': 0.03, 'inst': 0.1559}\n",
      "mean test AUC: {'bag': 0.998, 'inst': 0.9231}\n",
      "mean test confusion: {'bag': {'TP': 9.0, 'FP': 0.6, 'TN': 10.4, 'FN': 0.0}, 'inst': {'TP': 1308.8, 'FP': 395.9, 'TN': 2596.1, 'FN': 325.2}}\n"
     ]
    }
   ],
   "source": [
    "calc_mean_stats(run='20')"
   ]
  },
  {
   "cell_type": "code",
   "execution_count": 3,
   "id": "227ca2e0",
   "metadata": {},
   "outputs": [
    {
     "name": "stdout",
     "output_type": "stream",
     "text": [
      "parameters: {'epochs': 400, 'learning_rate': 5e-05, 'weight_decay': 0.0005, 'model': 'Instance_MIL', 'attn_stru': 'tanh', 'c': 1, 'reuse_weight': False, 'block_backprop': False, 'full_label_perc': 0.1}\n",
      "checkpoints/run21_1/checkpoint_385.pt is loaded!\n",
      "checkpoints/run21_2/checkpoint_329.pt is loaded!\n",
      "checkpoints/run21_0/checkpoint_322.pt is loaded!\n",
      "checkpoints/run21_4/checkpoint_392.pt is loaded!\n",
      "checkpoints/run21_6/checkpoint_346.pt is loaded!\n",
      "checkpoints/run21_8/checkpoint_335.pt is loaded!\n",
      "checkpoints/run21_7/checkpoint_397.pt is loaded!\n",
      "checkpoints/run21_3/checkpoint_398.pt is loaded!\n",
      "checkpoints/run21_9/checkpoint_018.pt is loaded!\n",
      "checkpoints/run21_5/checkpoint_392.pt is loaded!\n",
      "mean test error: {'bag': 0.035, 'inst': 0.1616}\n",
      "mean test AUC: {'bag': 1.0, 'inst': 0.925}\n",
      "mean test confusion: {'bag': {'TP': 9.0, 'FP': 0.7, 'TN': 10.3, 'FN': 0.0}, 'inst': {'TP': 1341.7, 'FP': 455.2, 'TN': 2536.8, 'FN': 292.3}}\n"
     ]
    }
   ],
   "source": [
    "calc_mean_stats(run='21')"
   ]
  },
  {
   "cell_type": "code",
   "execution_count": 4,
   "id": "b08946f8",
   "metadata": {},
   "outputs": [
    {
     "name": "stdout",
     "output_type": "stream",
     "text": [
      "parameters: {'epochs': 400, 'learning_rate': 5e-05, 'weight_decay': 0.0005, 'model': 'Instance_MIL', 'attn_stru': 'tanh', 'c': 1, 'reuse_weight': False, 'block_backprop': False, 'full_label_perc': 0.2}\n",
      "checkpoints/run22_4/checkpoint_397.pt is loaded!\n",
      "checkpoints/run22_7/checkpoint_174.pt is loaded!\n",
      "checkpoints/run22_3/checkpoint_185.pt is loaded!\n",
      "checkpoints/run22_6/checkpoint_394.pt is loaded!\n",
      "checkpoints/run22_0/checkpoint_396.pt is loaded!\n",
      "checkpoints/run22_1/checkpoint_371.pt is loaded!\n",
      "checkpoints/run22_2/checkpoint_323.pt is loaded!\n",
      "checkpoints/run22_5/checkpoint_368.pt is loaded!\n",
      "checkpoints/run22_9/checkpoint_074.pt is loaded!\n",
      "checkpoints/run22_8/checkpoint_398.pt is loaded!\n",
      "mean test error: {'bag': 0.035, 'inst': 0.15}\n",
      "mean test AUC: {'bag': 1.0, 'inst': 0.9303}\n",
      "mean test confusion: {'bag': {'TP': 9.0, 'FP': 0.7, 'TN': 10.3, 'FN': 0.0}, 'inst': {'TP': 1323.7, 'FP': 383.7, 'TN': 2608.3, 'FN': 310.3}}\n"
     ]
    }
   ],
   "source": [
    "calc_mean_stats(run='22')"
   ]
  },
  {
   "cell_type": "code",
   "execution_count": 5,
   "id": "d8827f20",
   "metadata": {},
   "outputs": [
    {
     "name": "stdout",
     "output_type": "stream",
     "text": [
      "parameters: {'epochs': 400, 'learning_rate': 5e-05, 'weight_decay': 0.0005, 'model': 'Instance_MIL', 'attn_stru': 'tanh', 'c': 1, 'reuse_weight': False, 'block_backprop': False, 'full_label_perc': 0.5}\n",
      "checkpoints/run23_1/checkpoint_377.pt is loaded!\n",
      "checkpoints/run23_2/checkpoint_349.pt is loaded!\n",
      "checkpoints/run23_7/checkpoint_355.pt is loaded!\n",
      "checkpoints/run23_9/checkpoint_026.pt is loaded!\n",
      "checkpoints/run23_5/checkpoint_397.pt is loaded!\n",
      "checkpoints/run23_6/checkpoint_399.pt is loaded!\n",
      "checkpoints/run23_3/checkpoint_314.pt is loaded!\n",
      "checkpoints/run23_8/checkpoint_396.pt is loaded!\n",
      "checkpoints/run23_4/checkpoint_397.pt is loaded!\n",
      "checkpoints/run23_0/checkpoint_281.pt is loaded!\n",
      "mean test error: {'bag': 0.035, 'inst': 0.1469}\n",
      "mean test AUC: {'bag': 1.0, 'inst': 0.9305}\n",
      "mean test confusion: {'bag': {'TP': 9.0, 'FP': 0.7, 'TN': 10.3, 'FN': 0.0}, 'inst': {'TP': 1278.6, 'FP': 324.1, 'TN': 2667.9, 'FN': 355.4}}\n"
     ]
    }
   ],
   "source": [
    "calc_mean_stats(run='23')"
   ]
  },
  {
   "cell_type": "code",
   "execution_count": null,
   "id": "1c9a51c0-4d82-486c-b894-ac4f18a22231",
   "metadata": {
    "scrolled": false
   },
   "outputs": [],
   "source": [
    "# plot(run='23_8',plot_attn=True,k=10,ref='20')"
   ]
  },
  {
   "cell_type": "code",
   "execution_count": null,
   "id": "983a9b19-6759-418c-bb7d-49a56c95eb37",
   "metadata": {},
   "outputs": [],
   "source": []
  }
 ],
 "metadata": {
  "kernelspec": {
   "display_name": "Python 3 (ipykernel)",
   "language": "python",
   "name": "python3"
  },
  "language_info": {
   "codemirror_mode": {
    "name": "ipython",
    "version": 3
   },
   "file_extension": ".py",
   "mimetype": "text/x-python",
   "name": "python",
   "nbconvert_exporter": "python",
   "pygments_lexer": "ipython3",
   "version": "3.9.12"
  }
 },
 "nbformat": 4,
 "nbformat_minor": 5
}
